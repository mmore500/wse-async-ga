{
 "cells": [
  {
   "cell_type": "markdown",
   "metadata": {},
   "source": [
    "## Set Up Dependencies and Data\n"
   ]
  },
  {
   "cell_type": "code",
   "execution_count": null,
   "metadata": {},
   "outputs": [],
   "source": [
    "import os\n",
    "import random\n",
    "import threading\n",
    "\n",
    "\n",
    "import alifedata_phyloinformatics_convert as apc\n",
    "from ete4 import Tree\n",
    "from ete4.treeview import TreeStyle\n",
    "from hstrat._auxiliary_lib import (\n",
    "    alifestd_find_leaf_ids,\n",
    "    alifestd_collapse_unifurcations,\n",
    "    alifestd_prune_extinct_lineages_asexual,\n",
    "    alifestd_sum_origin_time_deltas_asexual,\n",
    "    alifestd_to_working_format,\n",
    ")\n",
    "import joblib\n",
    "from keyname import keyname as kn\n",
    "import more_itertools as mit\n",
    "import numpy as np\n",
    "import pandas as pd\n",
    "from phylotrackpy import systematics as syst\n",
    "import seaborn as sns\n",
    "from teeplot import teeplot as tp\n",
    "from tqdm.notebook import tqdm\n"
   ]
  },
  {
   "cell_type": "code",
   "execution_count": null,
   "metadata": {},
   "outputs": [],
   "source": [
    "df = pd.read_parquet(\n",
    "    \"https://osf.io/r2a7t/download\",\n",
    "    engine=\"fastparquet\",\n",
    ")\n"
   ]
  },
  {
   "cell_type": "markdown",
   "metadata": {},
   "source": [
    "## Reproducibility\n"
   ]
  },
  {
   "cell_type": "code",
   "execution_count": null,
   "metadata": {},
   "outputs": [],
   "source": [
    "%load_ext watermark\n",
    "%watermark -iwbmuvg -iv\n"
   ]
  },
  {
   "cell_type": "code",
   "execution_count": null,
   "metadata": {},
   "outputs": [],
   "source": [
    "df.head()\n"
   ]
  },
  {
   "cell_type": "code",
   "execution_count": null,
   "metadata": {},
   "outputs": [],
   "source": [
    "df.info()\n"
   ]
  },
  {
   "cell_type": "code",
   "execution_count": null,
   "metadata": {},
   "outputs": [],
   "source": [
    "df.describe()\n"
   ]
  },
  {
   "cell_type": "code",
   "execution_count": null,
   "metadata": {},
   "outputs": [],
   "source": [
    "joblib.hash(df)\n"
   ]
  },
  {
   "cell_type": "code",
   "execution_count": null,
   "metadata": {},
   "outputs": [],
   "source": [
    "df.dtypes\n"
   ]
  },
  {
   "cell_type": "markdown",
   "metadata": {},
   "source": [
    "## Helper Functions\n"
   ]
  },
  {
   "cell_type": "code",
   "execution_count": null,
   "metadata": {},
   "outputs": [],
   "source": [
    "def logify_phylo(phylo_df):\n",
    "    phylo_df = phylo_df.copy()\n",
    "    phylo_df[\"log time ago\"] = np.log(\n",
    "        phylo_df[\"origin_time\"].max() - phylo_df[\"origin_time\"] + 1\n",
    "    )\n",
    "    phylo_df[\"origin_time\"] = (\n",
    "        phylo_df[\"log time ago\"].max() - phylo_df[\"log time ago\"]\n",
    "    )\n",
    "    return phylo_df\n"
   ]
  },
  {
   "cell_type": "markdown",
   "metadata": {},
   "source": [
    "## Calculate Phylometrics\n"
   ]
  },
  {
   "cell_type": "code",
   "execution_count": null,
   "metadata": {},
   "outputs": [],
   "source": [
    "import multiprocessing\n",
    "\n",
    "records = []\n",
    "for replicate, tree_df in tqdm(df.groupby(\"replicate\")):\n",
    "    tree_df = tree_df.reset_index(drop=True)\n",
    "    tree_df = alifestd_to_working_format(tree_df)\n",
    "    attrs = {\n",
    "        col: mit.one(tree_df[col].unique())\n",
    "        for col in tree_df.columns\n",
    "        if len(tree_df[col].unique()) == 1 and col not in [\"dataSource\"]\n",
    "    }\n",
    "\n",
    "    def calc_mean_evolutionary_distinctiveness(tree_df):\n",
    "        tree = apc.RosettaTree(tree_df).as_phylotrack\n",
    "        return tree.get_mean_evolutionary_distinctiveness(\n",
    "            tree_df[\"origin_time\"].max()\n",
    "        )\n",
    "\n",
    "    def get_mean_evolutionary_distinctiveness(tree_df):\n",
    "        with multiprocessing.Pool(1) as pool:\n",
    "            result = pool.map(calc_mean_evolutionary_distinctiveness, [tree_df])\n",
    "            return result[0]\n",
    "\n",
    "    records.append(\n",
    "        {\n",
    "            **attrs,\n",
    "            \"replicate\": replicate,\n",
    "            \"metric\": \"sum branch lengths\",\n",
    "            \"value\": alifestd_sum_origin_time_deltas_asexual(tree_df),\n",
    "        },\n",
    "    )\n",
    "    records.append(\n",
    "        {\n",
    "            **attrs,\n",
    "            \"replicate\": replicate,\n",
    "            \"metric\": \"mean evolutionary distinctiveness\",\n",
    "            \"value\":get_mean_evolutionary_distinctiveness(tree_df),\n",
    "        },\n",
    "    )\n",
    "\n",
    "dfmetrics = pd.DataFrame.from_records(records)\n"
   ]
  },
  {
   "cell_type": "markdown",
   "metadata": {},
   "source": [
    "## Plot Phylometrics\n"
   ]
  },
  {
   "cell_type": "code",
   "execution_count": null,
   "metadata": {},
   "outputs": [],
   "source": [
    "fil = dfmetrics[\n",
    "    (dfmetrics[\"nCycle\"] == 1e6)\n",
    "    & (dfmetrics[\"popSize\"] >= 10000)\n",
    "    & (\n",
    "        dfmetrics[\"metric\"].isin(\n",
    "            [\"sum branch lengths\", \"mean evolutionary distinctiveness\"],\n",
    "        )\n",
    "    )\n",
    "].copy()\n",
    "fil[\"num PEs (10k)\"] = (fil[\"popSize\"] / 1e4).astype(int)\n",
    "fil[\"metric\"] = fil[\"metric\"].apply(\n",
    "    lambda x: x.replace(\" \", \"\\n\").replace(\"\\n\", \" \", 1)\n",
    ")\n",
    "\n",
    "fil[\"regime\"] = fil[\"genomeFlavor\"].map(\n",
    "    {\n",
    "        \"genome_purifyingplus\": \"adaptive\",\n",
    "        \"genome_purifyingonly\": \"purifying\",\n",
    "    },\n",
    ")\n",
    "\n",
    "tp.tee(\n",
    "    sns.catplot,\n",
    "    fil,\n",
    "    y=\"value\",\n",
    "    x=\"num PEs (10k)\",\n",
    "    hue=\"regime\",\n",
    "    col=\"metric\",\n",
    "    sharex=True,\n",
    "    sharey=False,\n",
    "    kind=\"swarm\",\n",
    "    height=2,\n",
    "    aspect=1.2,\n",
    "    teeplot_postprocess=\"teed.set_titles('{col_name}')\",\n",
    ")\n"
   ]
  },
  {
   "cell_type": "markdown",
   "metadata": {},
   "source": [
    "## Plotted Reconstructed Tree\n"
   ]
  },
  {
   "cell_type": "code",
   "execution_count": null,
   "metadata": {},
   "outputs": [],
   "source": [
    "os.makedirs(\"outplots/log\", exist_ok=True)\n",
    "for replicate, tree_df in tqdm(df.groupby(\"replicate\")):\n",
    "    tree_df = alifestd_to_working_format(tree_df.reset_index(drop=True))\n",
    "\n",
    "    tips = alifestd_find_leaf_ids(tree_df)\n",
    "    n_downsample = 1000\n",
    "    kept = random.sample(tips, min(n_downsample, len(tips)))\n",
    "    tree_df[\"extant\"] = tree_df[\"id\"].isin(kept)\n",
    "\n",
    "    tree_df = alifestd_prune_extinct_lineages_asexual(tree_df)\n",
    "    tree_df = alifestd_collapse_unifurcations(tree_df)\n",
    "\n",
    "    tree_df = logify_phylo(tree_df)  # log scale branches\n",
    "\n",
    "    attrs = {\n",
    "        col: mit.one(tree_df[col].unique())\n",
    "        for col in tree_df.columns\n",
    "        if len(tree_df[col].unique()) == 1 and col not in [\"dataSource\"]\n",
    "    }\n",
    "    attrs[\"ext\"] = \".pdf\"\n",
    "\n",
    "    tree_df = tree_df.drop(\"taxon_label\", axis=1).copy()\n",
    "    tree_df[\"taxon_label\"] = tree_df[\"id\"]\n",
    "\n",
    "    t = Tree(apc.RosettaTree(tree_df).to_newick())\n",
    "    t.to_ultrametric()\n",
    "\n",
    "    ts = TreeStyle()\n",
    "    ts.mode = \"c\"\n",
    "    ts.arc_start = -180  # 0 degrees = 3 o'clock\n",
    "    ts.arc_span = 360\n",
    "    ts.show_leaf_name = False\n",
    "    ts.show_scale = False\n",
    "\n",
    "    outname = kn.pack(attrs)\n",
    "    t.render(f\"outplots/log/{outname}\", tree_style=ts, w=1, units=\"in\")\n",
    "\n",
    "    print(outname)\n",
    "    display(t.render(\"%%inline\", tree_style=ts, w=4, units=\"in\"))\n"
   ]
  },
  {
   "cell_type": "code",
   "execution_count": null,
   "metadata": {},
   "outputs": [],
   "source": [
    "os.makedirs(\"outplots/linear\", exist_ok=True)\n",
    "for replicate, tree_df in tqdm(df.groupby(\"replicate\")):\n",
    "    tree_df = alifestd_to_working_format(tree_df.reset_index(drop=True))\n",
    "\n",
    "    tips = alifestd_find_leaf_ids(tree_df)\n",
    "    n_downsample = 1000\n",
    "    kept = random.sample(tips, min(n_downsample, len(tips)))\n",
    "    tree_df[\"extant\"] = tree_df[\"id\"].isin(kept)\n",
    "\n",
    "    tree_df = alifestd_prune_extinct_lineages_asexual(tree_df)\n",
    "    tree_df = alifestd_collapse_unifurcations(tree_df)\n",
    "\n",
    "    attrs = {\n",
    "        col: mit.one(tree_df[col].unique())\n",
    "        for col in tree_df.columns\n",
    "        if len(tree_df[col].unique()) == 1 and col not in [\"dataSource\"]\n",
    "    }\n",
    "    attrs[\"ext\"] = \".pdf\"\n",
    "\n",
    "    tree_df = tree_df.drop(\"taxon_label\", axis=1).copy()\n",
    "    tree_df[\"taxon_label\"] = tree_df[\"id\"]\n",
    "\n",
    "    t = Tree(apc.RosettaTree(tree_df).to_newick())\n",
    "\n",
    "    ts = TreeStyle()\n",
    "    ts.mode = \"c\"\n",
    "    ts.arc_start = -180  # 0 degrees = 3 o'clock\n",
    "    ts.arc_span = 360\n",
    "    ts.show_leaf_name = False\n",
    "    ts.show_scale = False\n",
    "\n",
    "    outname = kn.pack(attrs)\n",
    "    t.render(f\"outplots/linear/{outname}\", tree_style=ts, w=1, units=\"in\")\n",
    "\n",
    "    print(outname)\n",
    "    display(t.render(\"%%inline\", tree_style=ts, w=4, units=\"in\"))\n"
   ]
  }
 ],
 "metadata": {
  "kernelspec": {
   "display_name": "Python 3",
   "language": "python",
   "name": "python3"
  },
  "language_info": {
   "codemirror_mode": {
    "name": "ipython",
    "version": 3
   },
   "file_extension": ".py",
   "mimetype": "text/x-python",
   "name": "python",
   "nbconvert_exporter": "python",
   "pygments_lexer": "ipython3"
  }
 },
 "nbformat": 4,
 "nbformat_minor": 4
}
