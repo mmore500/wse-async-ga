{
 "cells": [
  {
   "cell_type": "code",
   "execution_count": null,
   "metadata": {},
   "outputs": [],
   "source": [
    "import logging\n",
    "import random\n",
    "\n",
    "from backstrip import backplot\n",
    "from nbmetalog import nbmetalog as nbm\n",
    "import pandas as pd\n",
    "from teeplot import teeplot as tp\n",
    "\n",
    "random.seed(1)\n",
    "\n",
    "logging.basicConfig(\n",
    "    format=\"[%(funcName)s:%(lineno)d] %(message)s\",\n",
    ")\n",
    "logger = logging.getLogger()\n"
   ]
  },
  {
   "cell_type": "code",
   "execution_count": null,
   "metadata": {},
   "outputs": [],
   "source": [
    "nbm.print_metadata()\n"
   ]
  },
  {
   "cell_type": "markdown",
   "metadata": {},
   "source": [
    "## Get Data\n"
   ]
  },
  {
   "cell_type": "code",
   "execution_count": null,
   "metadata": {},
   "outputs": [],
   "source": [
    "df = pd.read_csv(\"https://osf.io/egjxr/download\")\n"
   ]
  },
  {
   "cell_type": "code",
   "execution_count": null,
   "metadata": {},
   "outputs": [],
   "source": [
    "df[\"Nanoseconds per Op\"] = df[\"Nanoseconds\"] / df[\"Num Operations\"]\n"
   ]
  },
  {
   "cell_type": "markdown",
   "metadata": {},
   "source": [
    "## Statistics\n"
   ]
  },
  {
   "cell_type": "markdown",
   "metadata": {},
   "source": [
    "nanoseconds per op mean & SE\n"
   ]
  },
  {
   "cell_type": "code",
   "execution_count": null,
   "metadata": {},
   "outputs": [],
   "source": [
    "dfg = df.groupby([\"Policy\"]).agg([\"mean\", \"sem\"])\n",
    "dfg\n"
   ]
  },
  {
   "cell_type": "markdown",
   "metadata": {},
   "source": [
    "op to trivial ratio\n"
   ]
  },
  {
   "cell_type": "code",
   "execution_count": null,
   "metadata": {},
   "outputs": [],
   "source": [
    "df[\"Trivial Ratio\"] = (\n",
    "    df[\"Nanoseconds\"]\n",
    "    / df[(df[\"Policy\"] == \"trivial\")][\"Nanoseconds\"].mean()\n",
    ")\n",
    "df.groupby([\"Policy\"])[\"Trivial Ratio\"].agg([\"mean\", \"sem\"])\n"
   ]
  },
  {
   "cell_type": "markdown",
   "metadata": {},
   "source": [
    "## Visualize Results\n"
   ]
  },
  {
   "cell_type": "code",
   "execution_count": null,
   "metadata": {},
   "outputs": [],
   "source": [
    "tp.tee(\n",
    "    backplot,\n",
    "    data=df,\n",
    "    y=\"Policy\",\n",
    "    x=\"Nanoseconds per Op\",\n",
    "    orient=\"h\",\n",
    "    aspect=2.5,\n",
    "    log_scale=(True, False),\n",
    ")\n"
   ]
  }
 ],
 "metadata": {
  "kernelspec": {
   "display_name": "Python 3",
   "language": "python",
   "name": "python3"
  },
  "language_info": {
   "codemirror_mode": {
    "name": "ipython",
    "version": 3
   },
   "file_extension": ".py",
   "mimetype": "text/x-python",
   "name": "python",
   "nbconvert_exporter": "python",
   "pygments_lexer": "ipython3"
  }
 },
 "nbformat": 4,
 "nbformat_minor": 2
}
